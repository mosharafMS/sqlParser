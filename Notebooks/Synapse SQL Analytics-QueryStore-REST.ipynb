{
  "nbformat": 4,
  "nbformat_minor": 2,
  "metadata": {
    "kernelspec": {
      "name": "synapse_pyspark",
      "display_name": "Synapse PySpark"
    },
    "language_info": {
      "name": "python"
    },
    "save_output": true,
    "synapse_widget": {
      "version": "0.1",
      "state": {}
    }
  },
  "cells": [
    {
      "cell_type": "markdown",
      "metadata": {
        "nteract": {
          "transient": {
            "deleting": false
          }
        }
      },
      "source": [
        "# Load Query history from Query Store"
      ]
    },
    {
      "cell_type": "markdown",
      "metadata": {
        "nteract": {
          "transient": {
            "deleting": false
          }
        }
      },
      "source": [
        "#### SynapseML configurations"
      ]
    },
    {
      "cell_type": "code",
      "execution_count": 29,
      "outputs": [],
      "metadata": {
        "jupyter": {
          "source_hidden": true,
          "outputs_hidden": false
        },
        "nteract": {
          "transient": {
            "deleting": false
          }
        }
      },
      "source": [
        "%%configure -f\r\n",
        "{\r\n",
        "  \"name\": \"synapseml\",\r\n",
        "  \"conf\": {\r\n",
        "      \"spark.jars.packages\": \"com.microsoft.azure:synapseml_2.12:0.9.4\",\r\n",
        "      \"spark.jars.repositories\": \"https://mmlspark.azureedge.net/maven\",\r\n",
        "      \"spark.jars.excludes\": \"org.scala-lang:scala-reflect,org.apache.spark:spark-tags_2.12,org.scalactic:scalactic_2.12,org.scalatest:scalatest_2.12\",\r\n",
        "      \"spark.yarn.user.classpath.first\": \"true\"\r\n",
        "  }\r\n",
        "}"
      ]
    },
    {
      "cell_type": "markdown",
      "metadata": {
        "nteract": {
          "transient": {
            "deleting": false
          }
        }
      },
      "source": [
        "### API Key Parameter"
      ]
    },
    {
      "cell_type": "code",
      "execution_count": 30,
      "outputs": [],
      "metadata": {
        "jupyter": {
          "source_hidden": false,
          "outputs_hidden": false
        },
        "nteract": {
          "transient": {
            "deleting": false
          }
        },
        "tags": [
          "parameters"
        ]
      },
      "source": [
        "key=\"put the Azure Function key here\""
      ]
    },
    {
      "cell_type": "markdown",
      "metadata": {
        "nteract": {
          "transient": {
            "deleting": false
          }
        }
      },
      "source": [
        "## Load QueryStoreQueryText into dataframe"
      ]
    },
    {
      "cell_type": "code",
      "execution_count": 31,
      "outputs": [],
      "metadata": {
        "jupyter": {
          "source_hidden": false,
          "outputs_hidden": false
        },
        "nteract": {
          "transient": {
            "deleting": false
          }
        },
        "microsoft": {
          "language": "scala"
        }
      },
      "source": [
        "%%spark\r\n",
        "val df_scala=spark.read.synapsesql(\"retaildw.dbo.QueryStoreQueryText\")\r\n",
        "df_scala.createOrReplaceTempView(\"vquerystorequerytext\")"
      ]
    },
    {
      "cell_type": "markdown",
      "metadata": {
        "nteract": {
          "transient": {
            "deleting": false
          }
        }
      },
      "source": [
        "## Back to pyspark and datatypes adjustment"
      ]
    },
    {
      "cell_type": "code",
      "execution_count": 32,
      "outputs": [],
      "metadata": {
        "jupyter": {
          "source_hidden": false,
          "outputs_hidden": false
        },
        "nteract": {
          "transient": {
            "deleting": false
          }
        }
      },
      "source": [
        "df=spark.sql(\"select * from vquerystorequerytext\")"
      ]
    },
    {
      "cell_type": "code",
      "execution_count": 33,
      "outputs": [],
      "metadata": {
        "jupyter": {
          "source_hidden": false,
          "outputs_hidden": false
        },
        "nteract": {
          "transient": {
            "deleting": false
          }
        }
      },
      "source": [
        "df.printSchema()"
      ]
    },
    {
      "cell_type": "code",
      "execution_count": 34,
      "outputs": [],
      "metadata": {
        "jupyter": {
          "source_hidden": false,
          "outputs_hidden": false
        },
        "nteract": {
          "transient": {
            "deleting": false
          }
        }
      },
      "source": [
        "df=(\r\n",
        "    df\r\n",
        "    .withColumn(\"Command\",df[\"query_sql_text\"])\r\n",
        "    .withColumn(\"last_execution_time\",df[\"last_execution_time\"].cast(\"date\"))\r\n",
        "    .drop(df[\"query_sql_text\"])\r\n",
        ")"
      ]
    },
    {
      "cell_type": "code",
      "execution_count": 35,
      "outputs": [],
      "metadata": {
        "jupyter": {
          "source_hidden": false,
          "outputs_hidden": false
        },
        "nteract": {
          "transient": {
            "deleting": false
          }
        }
      },
      "source": [
        "df.printSchema()"
      ]
    },
    {
      "cell_type": "markdown",
      "metadata": {
        "nteract": {
          "transient": {
            "deleting": false
          }
        }
      },
      "source": [
        "#### SynapseML HTTPTransformer"
      ]
    },
    {
      "cell_type": "code",
      "execution_count": 36,
      "outputs": [],
      "metadata": {
        "jupyter": {
          "source_hidden": false,
          "outputs_hidden": false
        },
        "nteract": {
          "transient": {
            "deleting": false
          }
        }
      },
      "source": [
        "from synapse.ml.io.http import http_udf,HTTPTransformer\r\n",
        "from pyspark.sql.functions import udf, col\r\n",
        "import requests\r\n",
        "\r\n",
        "\r\n",
        "# function to call rest API with code authentication\r\n",
        "def call_rest_api(sqlCommand):\r\n",
        "    url=\"https://synapsequeryparserfunc.azurewebsites.net/api/parse\"\r\n",
        "    # set headers\r\n",
        "    headers={'Content-Type': 'application/json', 'x-functions-key': key}\r\n",
        "    return requests.Request(method=\"Post\", url=url, data=sqlCommand, headers=headers)\r\n",
        "\r\n",
        "\r\n",
        "df=df.withColumn(\"request\",http_udf(call_rest_api)(col(\"Command\")))\r\n",
        "\r\n",
        "def get_response_body(resp):\r\n",
        "    return resp.entity.content.decode()\r\n",
        "\r\n",
        "client = (HTTPTransformer()\r\n",
        "          .setConcurrency(24)\r\n",
        "          .setInputCol(\"request\")\r\n",
        "          .setOutputCol(\"response\"))\r\n",
        "\r\n",
        "\r\n",
        "def get_response_body(resp):\r\n",
        "    return resp.entity.content.decode()\r\n",
        "\r\n",
        "\r\n",
        "\r\n",
        "df= client.transform(df).select(\"*\", udf(get_response_body)(col(\"response\")).alias(\"sqlAnalytics\"))"
      ]
    },
    {
      "cell_type": "code",
      "execution_count": 37,
      "outputs": [],
      "metadata": {
        "jupyter": {
          "source_hidden": false,
          "outputs_hidden": false
        },
        "nteract": {
          "transient": {
            "deleting": false
          }
        }
      },
      "source": [
        "df=df.drop(df[\"request\"])\r\n",
        "df=df.drop(df[\"response\"])"
      ]
    },
    {
      "cell_type": "code",
      "execution_count": 38,
      "outputs": [],
      "metadata": {
        "jupyter": {
          "source_hidden": false,
          "outputs_hidden": false
        },
        "nteract": {
          "transient": {
            "deleting": false
          }
        }
      },
      "source": [
        "from pyspark.sql.functions import from_json,schema_of_json,col\r\n",
        "from pyspark.sql.types import *\r\n",
        "\r\n",
        "# read the schema of the json\r\n",
        "json_schema = spark.read.json(df.rdd.map(lambda row: row.sqlAnalytics)).schema\r\n",
        "\r\n",
        "#create columns out of the schema\r\n",
        "df=df.withColumn('sqlAnalytics', from_json(col('sqlAnalytics'), json_schema)).select(\"*\",\"sqlAnalytics.*\")"
      ]
    },
    {
      "cell_type": "code",
      "execution_count": 39,
      "outputs": [],
      "metadata": {
        "jupyter": {
          "source_hidden": false,
          "outputs_hidden": false
        },
        "nteract": {
          "transient": {
            "deleting": false
          }
        }
      },
      "source": [
        "df.printSchema()"
      ]
    },
    {
      "cell_type": "code",
      "execution_count": 40,
      "outputs": [],
      "metadata": {
        "jupyter": {
          "source_hidden": false,
          "outputs_hidden": false
        },
        "nteract": {
          "transient": {
            "deleting": false
          }
        }
      },
      "source": [
        "# Replace empty arrays with null\r\n",
        "from pyspark.sql.functions import regexp_replace,when,size\r\n",
        "df = (\r\n",
        "    df\r\n",
        "    .withColumn('joinedTables', when(size(df.joinedTables)==0, None).otherwise(df.joinedTables))\r\n",
        "    .withColumn('joinedColumns',when(size(df.joinedColumns)==0, None).otherwise(df.joinedColumns))\r\n",
        "    .withColumn('insertStatementTargets',when(size(df.insertStatementTargets)==0, None).otherwise(df.insertStatementTargets))\r\n",
        "    .withColumn('deleteStatementTargets',when(size(df.deleteStatementTargets)==0, None).otherwise(df.deleteStatementTargets))\r\n",
        "    .withColumn('errors',when(size(df.errors)==0, None).otherwise(df.errors))\r\n",
        "    .withColumn('copyStatementFrom',when(size(df.copyStatementFrom)==0, None).otherwise(df.copyStatementFrom))\r\n",
        "    .withColumn('copyStatementInto',when(size(df.copyStatementInto)==0, None).otherwise(df.copyStatementInto))\r\n",
        ")"
      ]
    },
    {
      "cell_type": "markdown",
      "metadata": {
        "nteract": {
          "transient": {
            "deleting": false
          }
        }
      },
      "source": [
        "## Saving"
      ]
    },
    {
      "cell_type": "markdown",
      "metadata": {
        "nteract": {
          "transient": {
            "deleting": false
          }
        }
      },
      "source": [
        "## Write the dataframes"
      ]
    },
    {
      "cell_type": "code",
      "execution_count": 41,
      "outputs": [],
      "metadata": {
        "jupyter": {
          "source_hidden": false,
          "outputs_hidden": false
        },
        "nteract": {
          "transient": {
            "deleting": false
          }
        }
      },
      "source": [
        "# With no errors\r\n",
        "df.filter('errors is NULL').write.mode(\"overwrite\").saveAsTable(\"SynapseSqlAnalytics\")\r\n",
        "# with errors\r\n",
        "df.filter('errors is NOT NULL').write.mode(\"overwrite\").saveAsTable(\"SynapseSqlAnalytics_Errors\")"
      ]
    }
  ]
}